{
 "cells": [
  {
   "cell_type": "code",
   "execution_count": 244,
   "metadata": {},
   "outputs": [],
   "source": [
    "# Importing the necessary libraries\n",
    "import requests\n",
    "from bs4 import BeautifulSoup\n",
    "import re\n",
    "import pandas as pd"
   ]
  },
  {
   "cell_type": "code",
   "execution_count": 315,
   "metadata": {},
   "outputs": [],
   "source": [
    "root_url = 'https://www.immoweb.be/en'\n",
    "\n",
    "headers = {\n",
    "    \"User-Agent\": \"Mozilla/5.0 (Windows NT 10.0; Win64; x64) AppleWebKit/537.36 (KHTML, like Gecko) Chrome/129.0.0.0 Safari/537.36\",\n",
    "}\n",
    "\n",
    "link = 'classified/house/for-sale/ronse/9600/20314682'\n"
   ]
  },
  {
   "cell_type": "code",
   "execution_count": 359,
   "metadata": {},
   "outputs": [
    {
     "name": "stdout",
     "output_type": "stream",
     "text": [
      "200\n"
     ]
    }
   ],
   "source": [
    "# Get the website's content and making soup\n",
    "\n",
    "req = requests.get(f'{root_url}/{link}', headers=headers)\n",
    "print(req.status_code)\n",
    "\n",
    "content = req.content\n",
    "soup = BeautifulSoup(content, 'html')\n"
   ]
  },
  {
   "cell_type": "code",
   "execution_count": null,
   "metadata": {},
   "outputs": [
    {
     "data": {
      "text/plain": [
       "['  Overview                                                      3 bedrooms                                                                                             1 bathroom                                                                                               150                                                                                                   m²                                                                                                      square meters                                                                                               livable space                                                                                             604                                                                                                   m²                                                                                                      square meters                                                                                               of land                                              ']"
      ]
     },
     "execution_count": 394,
     "metadata": {},
     "output_type": "execute_result"
    }
   ],
   "source": [
    "# # Get overview details\n",
    "# det_box = soup.find_all('section', attrs={'class': 'classified__section'})\n",
    "# \n",
    "# overview = [tag.text for tag in det_box]\n",
    "# \n",
    "# overview = [re.sub(r'[\\s]', ' ', elem) for elem in overview]\n",
    "# \n",
    "# overview\n"
   ]
  },
  {
   "cell_type": "code",
   "execution_count": 374,
   "metadata": {},
   "outputs": [
    {
     "data": {
      "text/plain": [
       "'wavre'"
      ]
     },
     "execution_count": 374,
     "metadata": {},
     "output_type": "execute_result"
    }
   ],
   "source": [
    "# City / Locality \n",
    "\n",
    "link = 'https://www.immoweb.be/en/classified/apartment-block/for-sale/wavre/1300/20313601'\n",
    "locality = link.split('/')[-3]\n",
    "locality"
   ]
  },
  {
   "cell_type": "code",
   "execution_count": 376,
   "metadata": {},
   "outputs": [
    {
     "data": {
      "text/plain": [
       "'apartment-block'"
      ]
     },
     "execution_count": 376,
     "metadata": {},
     "output_type": "execute_result"
    }
   ],
   "source": [
    "# Property Type\n",
    "p_type = link.split('/')[-5]\n",
    "\n",
    "p_type"
   ]
  },
  {
   "cell_type": "code",
   "execution_count": 387,
   "metadata": {},
   "outputs": [
    {
     "name": "stdout",
     "output_type": "stream",
     "text": [
      "apartment-block\n",
      "Type:apartment-block\n",
      "Sub type: \n"
     ]
    }
   ],
   "source": [
    "################# To be done\n",
    "\n",
    "# Subtype\n",
    "print(p_type)\n",
    "sub_type= ''\n",
    "\n",
    "if 'apt' in p_type:\n",
    "    sub_type = 'NA'   # or \"NA\" ?\n",
    "elif \"House\" in p_type:\n",
    "    p_type = 'House'\n",
    "    sub_type = p_type   # or \"NA\" ?\n",
    "elif 'Chalet' in p_type:\n",
    "    p_type = 'House'\n",
    "    sub_type = 'Chalet'\n",
    "elif 'Bungalow' in p_type:\n",
    "    p_type = 'House'\n",
    "    sub_type = 'Bungalow'\n",
    "\n",
    "\n",
    "print('Type:' + p_type)\n",
    "print('Sub type: ' + sub_type)"
   ]
  },
  {
   "cell_type": "code",
   "execution_count": 388,
   "metadata": {},
   "outputs": [
    {
     "data": {
      "text/plain": [
       "'380000'"
      ]
     },
     "execution_count": 388,
     "metadata": {},
     "output_type": "execute_result"
    }
   ],
   "source": [
    "# Price\n",
    "\n",
    "price = soup.find('span', attrs={'class': 'sr-only'}).text\n",
    "price = re.sub(r'[\\D]', \"\", price)\n",
    "price\n"
   ]
  },
  {
   "cell_type": "code",
   "execution_count": 389,
   "metadata": {},
   "outputs": [],
   "source": [
    "###################\n",
    "# Sale Type TO BE DONE\n",
    "\n",
    "sale_type = soup.find('span', attrs={'class': 'flag-list__text'})\n",
    "\n",
    "sale_type\n",
    "\n"
   ]
  },
  {
   "cell_type": "code",
   "execution_count": 402,
   "metadata": {},
   "outputs": [],
   "source": [
    "# Get table with all other property details\n",
    "table = soup.find_all('table', class_='classified-table')\n"
   ]
  },
  {
   "cell_type": "code",
   "execution_count": 403,
   "metadata": {},
   "outputs": [
    {
     "data": {
      "text/html": [
       "<div>\n",
       "<style scoped>\n",
       "    .dataframe tbody tr th:only-of-type {\n",
       "        vertical-align: middle;\n",
       "    }\n",
       "\n",
       "    .dataframe tbody tr th {\n",
       "        vertical-align: top;\n",
       "    }\n",
       "\n",
       "    .dataframe thead th {\n",
       "        text-align: right;\n",
       "    }\n",
       "</style>\n",
       "<table border=\"1\" class=\"dataframe\">\n",
       "  <thead>\n",
       "    <tr style=\"text-align: right;\">\n",
       "      <th></th>\n",
       "      <th>Headers</th>\n",
       "      <th>Values</th>\n",
       "    </tr>\n",
       "  </thead>\n",
       "  <tbody>\n",
       "    <tr>\n",
       "      <th>0</th>\n",
       "      <td>[Available as of]</td>\n",
       "      <td>[\\n                                    After s...</td>\n",
       "    </tr>\n",
       "    <tr>\n",
       "      <th>1</th>\n",
       "      <td>[\\n                                    Constru...</td>\n",
       "      <td>[\\n                                    2019\\n ...</td>\n",
       "    </tr>\n",
       "    <tr>\n",
       "      <th>2</th>\n",
       "      <td>[\\n                                    Number ...</td>\n",
       "      <td>[\\n                                    3\\n    ...</td>\n",
       "    </tr>\n",
       "    <tr>\n",
       "      <th>3</th>\n",
       "      <td>[\\n                                    Buildin...</td>\n",
       "      <td>[\\n                                    Good\\n ...</td>\n",
       "    </tr>\n",
       "    <tr>\n",
       "      <th>4</th>\n",
       "      <td>[\\n                                    Number ...</td>\n",
       "      <td>[\\n                                    3\\n    ...</td>\n",
       "    </tr>\n",
       "    <tr>\n",
       "      <th>5</th>\n",
       "      <td>[Asbestos certificate is available]</td>\n",
       "      <td>[\\n                                           ...</td>\n",
       "    </tr>\n",
       "    <tr>\n",
       "      <th>6</th>\n",
       "      <td>[\\n                                    Living ...</td>\n",
       "      <td>[\\n                                    150\\n\\n...</td>\n",
       "    </tr>\n",
       "    <tr>\n",
       "      <th>7</th>\n",
       "      <td>[Kitchen type]</td>\n",
       "      <td>[\\n                                    Install...</td>\n",
       "    </tr>\n",
       "    <tr>\n",
       "      <th>8</th>\n",
       "      <td>[Bedrooms]</td>\n",
       "      <td>[3]</td>\n",
       "    </tr>\n",
       "    <tr>\n",
       "      <th>9</th>\n",
       "      <td>[Bathrooms]</td>\n",
       "      <td>[1]</td>\n",
       "    </tr>\n",
       "    <tr>\n",
       "      <th>10</th>\n",
       "      <td>[Toilets]</td>\n",
       "      <td>[2]</td>\n",
       "    </tr>\n",
       "    <tr>\n",
       "      <th>11</th>\n",
       "      <td>[Attic]</td>\n",
       "      <td>[Yes\\n                                ]</td>\n",
       "    </tr>\n",
       "    <tr>\n",
       "      <th>12</th>\n",
       "      <td>[Surface of the plot]</td>\n",
       "      <td>[\\n                                        604...</td>\n",
       "    </tr>\n",
       "    <tr>\n",
       "      <th>13</th>\n",
       "      <td>[Gas, water &amp; electricity]</td>\n",
       "      <td>[\\n                                        No\\...</td>\n",
       "    </tr>\n",
       "    <tr>\n",
       "      <th>14</th>\n",
       "      <td>[Garden surface]</td>\n",
       "      <td>[\\n                                    360\\n  ...</td>\n",
       "    </tr>\n",
       "    <tr>\n",
       "      <th>15</th>\n",
       "      <td>[Garden orientation]</td>\n",
       "      <td>[\\n                                    South\\n...</td>\n",
       "    </tr>\n",
       "    <tr>\n",
       "      <th>16</th>\n",
       "      <td>[Terrace]</td>\n",
       "      <td>[Yes\\n                                ]</td>\n",
       "    </tr>\n",
       "    <tr>\n",
       "      <th>17</th>\n",
       "      <td>[Primary energy consumption]</td>\n",
       "      <td>[\\n                                    \\n     ...</td>\n",
       "    </tr>\n",
       "    <tr>\n",
       "      <th>18</th>\n",
       "      <td>[Energy class]</td>\n",
       "      <td>[\\n                                           ...</td>\n",
       "    </tr>\n",
       "    <tr>\n",
       "      <th>19</th>\n",
       "      <td>[Reference number of the EPC report]</td>\n",
       "      <td>[\\n                                           ...</td>\n",
       "    </tr>\n",
       "    <tr>\n",
       "      <th>20</th>\n",
       "      <td>[CO₂ emission]</td>\n",
       "      <td>[\\n                                           ...</td>\n",
       "    </tr>\n",
       "    <tr>\n",
       "      <th>21</th>\n",
       "      <td>[\\n                                Yearly theo...</td>\n",
       "      <td>[Not specified]</td>\n",
       "    </tr>\n",
       "    <tr>\n",
       "      <th>22</th>\n",
       "      <td>[\\n                                    As buil...</td>\n",
       "      <td>[\\n                                    No\\n   ...</td>\n",
       "    </tr>\n",
       "    <tr>\n",
       "      <th>23</th>\n",
       "      <td>[E-level (overall energy performance)]</td>\n",
       "      <td>[\\n                                    37\\n   ...</td>\n",
       "    </tr>\n",
       "    <tr>\n",
       "      <th>24</th>\n",
       "      <td>[Conformity certification for fuel tanks]</td>\n",
       "      <td>[\\n                                    Not spe...</td>\n",
       "    </tr>\n",
       "    <tr>\n",
       "      <th>25</th>\n",
       "      <td>[Heating type]</td>\n",
       "      <td>[\\n                                Gas\\n      ...</td>\n",
       "    </tr>\n",
       "    <tr>\n",
       "      <th>26</th>\n",
       "      <td>[Double glazing]</td>\n",
       "      <td>[\\n                                Yes\\n      ...</td>\n",
       "    </tr>\n",
       "    <tr>\n",
       "      <th>27</th>\n",
       "      <td>[Flood zone type]</td>\n",
       "      <td>[Non flood zone\\n                             ...</td>\n",
       "    </tr>\n",
       "    <tr>\n",
       "      <th>28</th>\n",
       "      <td>[Latest land use designation]</td>\n",
       "      <td>[\\n                                    Living ...</td>\n",
       "    </tr>\n",
       "    <tr>\n",
       "      <th>29</th>\n",
       "      <td>[Price]</td>\n",
       "      <td>[\\n, [\\n                                      ...</td>\n",
       "    </tr>\n",
       "    <tr>\n",
       "      <th>30</th>\n",
       "      <td>[Cadastral income]</td>\n",
       "      <td>[\\n, [\\n                                      ...</td>\n",
       "    </tr>\n",
       "    <tr>\n",
       "      <th>31</th>\n",
       "      <td>[Tenement building]</td>\n",
       "      <td>[No\\n                                    ]</td>\n",
       "    </tr>\n",
       "    <tr>\n",
       "      <th>32</th>\n",
       "      <td>[\\n                                           ...</td>\n",
       "      <td>[\\n                                           ...</td>\n",
       "    </tr>\n",
       "    <tr>\n",
       "      <th>33</th>\n",
       "      <td>[\\n                                           ...</td>\n",
       "      <td>[\\n, [\\n                                      ...</td>\n",
       "    </tr>\n",
       "    <tr>\n",
       "      <th>34</th>\n",
       "      <td>[\\n                                           ...</td>\n",
       "      <td>[\\n                                           ...</td>\n",
       "    </tr>\n",
       "  </tbody>\n",
       "</table>\n",
       "</div>"
      ],
      "text/plain": [
       "                                              Headers  \\\n",
       "0                                   [Available as of]   \n",
       "1   [\\n                                    Constru...   \n",
       "2   [\\n                                    Number ...   \n",
       "3   [\\n                                    Buildin...   \n",
       "4   [\\n                                    Number ...   \n",
       "5                 [Asbestos certificate is available]   \n",
       "6   [\\n                                    Living ...   \n",
       "7                                      [Kitchen type]   \n",
       "8                                          [Bedrooms]   \n",
       "9                                         [Bathrooms]   \n",
       "10                                          [Toilets]   \n",
       "11                                            [Attic]   \n",
       "12                              [Surface of the plot]   \n",
       "13                         [Gas, water & electricity]   \n",
       "14                                   [Garden surface]   \n",
       "15                               [Garden orientation]   \n",
       "16                                          [Terrace]   \n",
       "17                       [Primary energy consumption]   \n",
       "18                                     [Energy class]   \n",
       "19               [Reference number of the EPC report]   \n",
       "20                                     [CO₂ emission]   \n",
       "21  [\\n                                Yearly theo...   \n",
       "22  [\\n                                    As buil...   \n",
       "23             [E-level (overall energy performance)]   \n",
       "24          [Conformity certification for fuel tanks]   \n",
       "25                                     [Heating type]   \n",
       "26                                   [Double glazing]   \n",
       "27                                  [Flood zone type]   \n",
       "28                      [Latest land use designation]   \n",
       "29                                            [Price]   \n",
       "30                                 [Cadastral income]   \n",
       "31                                [Tenement building]   \n",
       "32  [\\n                                           ...   \n",
       "33  [\\n                                           ...   \n",
       "34  [\\n                                           ...   \n",
       "\n",
       "                                               Values  \n",
       "0   [\\n                                    After s...  \n",
       "1   [\\n                                    2019\\n ...  \n",
       "2   [\\n                                    3\\n    ...  \n",
       "3   [\\n                                    Good\\n ...  \n",
       "4   [\\n                                    3\\n    ...  \n",
       "5   [\\n                                           ...  \n",
       "6   [\\n                                    150\\n\\n...  \n",
       "7   [\\n                                    Install...  \n",
       "8                                                 [3]  \n",
       "9                                                 [1]  \n",
       "10                                                [2]  \n",
       "11            [Yes\\n                                ]  \n",
       "12  [\\n                                        604...  \n",
       "13  [\\n                                        No\\...  \n",
       "14  [\\n                                    360\\n  ...  \n",
       "15  [\\n                                    South\\n...  \n",
       "16            [Yes\\n                                ]  \n",
       "17  [\\n                                    \\n     ...  \n",
       "18  [\\n                                           ...  \n",
       "19  [\\n                                           ...  \n",
       "20  [\\n                                           ...  \n",
       "21                                    [Not specified]  \n",
       "22  [\\n                                    No\\n   ...  \n",
       "23  [\\n                                    37\\n   ...  \n",
       "24  [\\n                                    Not spe...  \n",
       "25  [\\n                                Gas\\n      ...  \n",
       "26  [\\n                                Yes\\n      ...  \n",
       "27  [Non flood zone\\n                             ...  \n",
       "28  [\\n                                    Living ...  \n",
       "29  [\\n, [\\n                                      ...  \n",
       "30  [\\n, [\\n                                      ...  \n",
       "31         [No\\n                                    ]  \n",
       "32  [\\n                                           ...  \n",
       "33  [\\n, [\\n                                      ...  \n",
       "34  [\\n                                           ...  "
      ]
     },
     "execution_count": 403,
     "metadata": {},
     "output_type": "execute_result"
    }
   ],
   "source": [
    "# Create list of from the table\n",
    "# It will work with a dictionaty too, but when I tried,\n",
    "# the values were not showing up.\n",
    "\n",
    "labels = [th for th in soup.find_all('th', class_='classified-table__header')]\n",
    "values = [td for td in soup.find_all('td', class_='classified-table__data')]\n",
    "\n",
    "# Convert to data frame\n",
    "\n",
    "df = pd.DataFrame({\n",
    "    'Headers' : labels,\n",
    "    'Values' : values\n",
    "})\n",
    "\n",
    "df\n",
    "\n",
    "# What's inside the df needs to be cleaned, so only the text is on each cell.\n",
    "# Then we can iterate over the 'headers' col to search for the date we need\n",
    "# and get the value of the cell that is next to it.\n",
    "# For example look for \"bedroom\" and assig its value to the final house dict."
   ]
  },
  {
   "cell_type": "code",
   "execution_count": 404,
   "metadata": {},
   "outputs": [
    {
     "data": {
      "text/plain": [
       "0                                     [Available as of]\n",
       "1     [\\n                                    Constru...\n",
       "2     [\\n                                    Number ...\n",
       "3     [\\n                                    Buildin...\n",
       "4     [\\n                                    Number ...\n",
       "5                   [Asbestos certificate is available]\n",
       "6     [\\n                                    Living ...\n",
       "7                                        [Kitchen type]\n",
       "8                                            [Bedrooms]\n",
       "9                                           [Bathrooms]\n",
       "10                                            [Toilets]\n",
       "11                                              [Attic]\n",
       "12                                [Surface of the plot]\n",
       "13                           [Gas, water & electricity]\n",
       "14                                     [Garden surface]\n",
       "15                                 [Garden orientation]\n",
       "16                                            [Terrace]\n",
       "17                         [Primary energy consumption]\n",
       "18                                       [Energy class]\n",
       "19                 [Reference number of the EPC report]\n",
       "20                                       [CO₂ emission]\n",
       "21    [\\n                                Yearly theo...\n",
       "22    [\\n                                    As buil...\n",
       "23               [E-level (overall energy performance)]\n",
       "24            [Conformity certification for fuel tanks]\n",
       "25                                       [Heating type]\n",
       "26                                     [Double glazing]\n",
       "27                                    [Flood zone type]\n",
       "28                        [Latest land use designation]\n",
       "29                                              [Price]\n",
       "30                                   [Cadastral income]\n",
       "31                                  [Tenement building]\n",
       "32    [\\n                                           ...\n",
       "33    [\\n                                           ...\n",
       "34    [\\n                                           ...\n",
       "Name: Headers, dtype: object"
      ]
     },
     "execution_count": 404,
     "metadata": {},
     "output_type": "execute_result"
    }
   ],
   "source": [
    "df['Headers']"
   ]
  },
  {
   "cell_type": "code",
   "execution_count": 405,
   "metadata": {},
   "outputs": [],
   "source": [
    "house = {'Locality' : '',\n",
    "         'Type' : '',   # (House/apartment)\n",
    "         'Subtype' : '', # (Bungalow, Chalet, Mansion, ...)\n",
    "         'Price'  : '',\n",
    "         'sale_type' : '',\n",
    "         'bedrooms' : '',\n",
    "         'living_area' : '',\n",
    "         'equip_kit' : '',   # Yes, no\n",
    "         'furnished' : '' , # Yes, no\n",
    "         'open_fire' : '', # Yes, no\n",
    "         'terrace' : '', # Yes, no  # If yes, area: \n",
    "         'garden' : '', # Yes, no  # If yes, area: \n",
    "         'land_surface' : '',\n",
    "         # Surface area of the plot of land (?)\n",
    "         'facades' : '',\n",
    "         'swim_pool' : '',  # Yes, no\n",
    "         'state' : ''     #  (New, to be renovated, ...)\n",
    "          \n",
    "                  }"
   ]
  },
  {
   "cell_type": "code",
   "execution_count": 406,
   "metadata": {},
   "outputs": [],
   "source": [
    "# Need to add listing ID (?) is it needed for the csv?\n",
    "\n",
    "def get_details(url) -> dict:\n",
    "    \"\"\"\n",
    "    Takes a link for a listing and returns its details.\n",
    "\n",
    "    PARAMS:\n",
    "    link - str: the url of the property listing to scrap\n",
    "\n",
    "    RETURNS:\n",
    "    house - dict: label-value pairs of the relevant property details\n",
    "\n",
    "    \"\"\"\n",
    "\n",
    "    # Making the request and printing status code\n",
    "    req = requests.get(url, headers=headers)\n",
    "    print(req.status_code)      # Needs to be removed from final version\n",
    "\n",
    "    # Get content and make soup\n",
    "    content = req.content\n",
    "    soup = BeautifulSoup(content, 'html')\n",
    "\n",
    "    # Iniciate an empty dict\n",
    "    house = {}\n",
    "\n",
    "    # Fetch the html tags that will be used to extract the info\n",
    "    price = soup.find('span', attrs={'class': 'sr-only'}).text\n",
    "    table = soup.find_all('table', class_='classified-table')\n",
    "\n",
    "    # Populate house dict with the info\n",
    "    house['id'] = link.split('/')[-1]\n",
    "    house['locality'] = link.split('/')[-3]\n",
    "    house['p_type'] = link.split('/')[-5]\n",
    "    house['price'] = re.sub(r'[\\D]', \"\", price)\n",
    "\n",
    "    return house\n"
   ]
  },
  {
   "cell_type": "code",
   "execution_count": 408,
   "metadata": {},
   "outputs": [
    {
     "name": "stdout",
     "output_type": "stream",
     "text": [
      "200\n"
     ]
    },
    {
     "data": {
      "text/plain": [
       "{'id': '20313601',\n",
       " 'locality': 'wavre',\n",
       " 'p_type': 'apartment-block',\n",
       " 'price': '248000'}"
      ]
     },
     "execution_count": 408,
     "metadata": {},
     "output_type": "execute_result"
    }
   ],
   "source": [
    "get_details('https://www.immoweb.be/en/classified/apartment/for-sale/antwerpen/2100/20315980')"
   ]
  }
 ],
 "metadata": {
  "kernelspec": {
   "display_name": "env1",
   "language": "python",
   "name": "python3"
  },
  "language_info": {
   "codemirror_mode": {
    "name": "ipython",
    "version": 3
   },
   "file_extension": ".py",
   "mimetype": "text/x-python",
   "name": "python",
   "nbconvert_exporter": "python",
   "pygments_lexer": "ipython3",
   "version": "3.13.0"
  }
 },
 "nbformat": 4,
 "nbformat_minor": 2
}
