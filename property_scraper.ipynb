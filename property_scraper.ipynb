{
 "cells": [
  {
   "cell_type": "code",
   "execution_count": 112,
   "metadata": {},
   "outputs": [],
   "source": [
    "# Importing the necessary libraries\n",
    "import requests\n",
    "from bs4 import BeautifulSoup\n",
    "import re\n",
    "import pandas as pd"
   ]
  },
  {
   "cell_type": "code",
   "execution_count": null,
   "metadata": {},
   "outputs": [],
   "source": []
  },
  {
   "cell_type": "code",
   "execution_count": 177,
   "metadata": {},
   "outputs": [],
   "source": [
    "root_url = 'https://www.immoweb.be/en'\n",
    "\n",
    "headers = {\n",
    "    \"User-Agent\": \"Mozilla/5.0 (Windows NT 10.0; Win64; x64) AppleWebKit/537.36 (KHTML, like Gecko) Chrome/129.0.0.0 Safari/537.36\",\n",
    "}\n",
    "\n",
    "link = 'classified/flat-studio/for-sale/uccle/1180/20316229'\n"
   ]
  },
  {
   "cell_type": "code",
   "execution_count": 178,
   "metadata": {},
   "outputs": [
    {
     "name": "stdout",
     "output_type": "stream",
     "text": [
      "200\n"
     ]
    }
   ],
   "source": [
    "# Get the website's content and making soup\n",
    "\n",
    "req = requests.get(f'{root_url}/{link}', headers=headers)\n",
    "print(req.status_code)\n",
    "\n",
    "content = req.content\n",
    "soup = BeautifulSoup(content, 'html')\n"
   ]
  },
  {
   "cell_type": "code",
   "execution_count": null,
   "metadata": {},
   "outputs": [],
   "source": [
    "# # Get overview details\n",
    "# det_box = soup.find_all('section', attrs={'class': 'classified__section'})\n",
    "# \n",
    "# overview = [tag.text for tag in det_box]\n",
    "# \n",
    "# overview = [re.sub(r'[\\s]', ' ', elem) for elem in overview]\n",
    "# \n",
    "# overview"
   ]
  },
  {
   "cell_type": "code",
   "execution_count": 179,
   "metadata": {},
   "outputs": [
    {
     "data": {
      "text/plain": [
       "'uccle'"
      ]
     },
     "execution_count": 179,
     "metadata": {},
     "output_type": "execute_result"
    }
   ],
   "source": [
    "# City / Locality \n",
    "\n",
    "link = 'https://www.immoweb.be/en/classified/flat-studio/for-sale/uccle/1180/20316229'\n",
    "locality = link.split('/')[-3]\n",
    "locality"
   ]
  },
  {
   "cell_type": "code",
   "execution_count": 180,
   "metadata": {},
   "outputs": [
    {
     "data": {
      "text/plain": [
       "'flat-studio'"
      ]
     },
     "execution_count": 180,
     "metadata": {},
     "output_type": "execute_result"
    }
   ],
   "source": [
    "# Property Type\n",
    "p_type = link.split('/')[-5]\n",
    "\n",
    "p_type"
   ]
  },
  {
   "cell_type": "code",
   "execution_count": 13,
   "metadata": {},
   "outputs": [
    {
     "name": "stdout",
     "output_type": "stream",
     "text": [
      "apartment-block\n",
      "Type:apartment-block\n",
      "Sub type: \n"
     ]
    }
   ],
   "source": [
    "################# To be done\n",
    "\n",
    "# Subtype\n",
    "print(p_type)\n",
    "sub_type= ''\n",
    "\n",
    "if 'apt' in p_type:\n",
    "    sub_type = 'NA'   # or \"NA\" ?\n",
    "elif \"House\" in p_type:\n",
    "    p_type = 'House'\n",
    "    sub_type = p_type   # or \"NA\" ?\n",
    "elif 'Chalet' in p_type:\n",
    "    p_type = 'House'\n",
    "    sub_type = 'Chalet'\n",
    "elif 'Bungalow' in p_type:\n",
    "    p_type = 'House'\n",
    "    sub_type = 'Bungalow'\n",
    "\n",
    "\n",
    "print('Type:' + p_type)\n",
    "print('Sub type: ' + sub_type)"
   ]
  },
  {
   "cell_type": "code",
   "execution_count": 181,
   "metadata": {},
   "outputs": [
    {
     "data": {
      "text/plain": [
       "'239000'"
      ]
     },
     "execution_count": 181,
     "metadata": {},
     "output_type": "execute_result"
    }
   ],
   "source": [
    "# Price\n",
    "\n",
    "price = soup.find('span', attrs={'class': 'sr-only'})\n",
    "price = re.sub(r'[\\D]', \"\", price.text)\n",
    "price"
   ]
  },
  {
   "cell_type": "code",
   "execution_count": 182,
   "metadata": {},
   "outputs": [],
   "source": [
    "###################\n",
    "# Sale Type TO BE DONE\n",
    "\n",
    "sale_type = soup.find('span', attrs={'class': 'flag-list__text'})\n",
    "\n",
    "sale_type\n",
    "\n"
   ]
  },
  {
   "cell_type": "code",
   "execution_count": 219,
   "metadata": {},
   "outputs": [],
   "source": [
    "# Get table with all other property details\n",
    "table = soup.find_all('table', class_='classified-table')"
   ]
  },
  {
   "cell_type": "code",
   "execution_count": 257,
   "metadata": {},
   "outputs": [
    {
     "data": {
      "text/plain": [
       "{'Available date': 'December 31 2024 - 12:00 AM',\n",
       " 'Construction year': '1950',\n",
       " 'Floor': '3',\n",
       " 'Number of floors': '3',\n",
       " 'Building condition': 'Good',\n",
       " 'Number of frontages': '2',\n",
       " 'Asbestos certificate is available': 'Not specified',\n",
       " 'Living area': 'None',\n",
       " 'Kitchen type': 'Installed',\n",
       " 'Bathrooms': '1',\n",
       " 'Shower rooms': '1',\n",
       " 'Toilets': '1',\n",
       " 'Furnished': 'No',\n",
       " 'Primary energy consumption': 'None',\n",
       " 'Energy class': 'E',\n",
       " 'Reference number of the EPC report': 'Not specified',\n",
       " 'CO₂ emission': '52 kg CO₂/m²',\n",
       " 'Yearly theoretical total energy consumption': 'Not specified',\n",
       " 'Conformity certification for fuel tanks': 'Not specified',\n",
       " 'Heating type': 'Gas',\n",
       " 'Double glazing': 'Yes',\n",
       " 'Flood zone type': 'Non flood zone',\n",
       " 'Price': 'None',\n",
       " 'Tenement building': 'No',\n",
       " 'Address': 'None',\n",
       " 'Website': 'None',\n",
       " 'External reference': '6328394'}"
      ]
     },
     "execution_count": 257,
     "metadata": {},
     "output_type": "execute_result"
    }
   ],
   "source": [
    "# Create list of raw data from the table\n",
    "labels = [str(th.string) for th in soup.find_all('th', class_='classified-table__header')]\n",
    "values = [str(td.string) for td in soup.find_all('td', class_='classified-table__data')]\n",
    "\n",
    "# removing extra spaces\n",
    "clean_labels = [label.strip() for label in labels]\n",
    "clean_values = [value.strip() for value in values]\n",
    "\n",
    "# Convert to dict:\n",
    "details_dict = {label: value for label, value in zip(clean_labels, clean_values)}\n",
    "\n",
    "details_dict\n"
   ]
  },
  {
   "cell_type": "code",
   "execution_count": null,
   "metadata": {},
   "outputs": [],
   "source": [
    "# Searching for all details needed in details_dict and\n",
    "# Assign \"NA\" to "
   ]
  },
  {
   "cell_type": "code",
   "execution_count": 19,
   "metadata": {},
   "outputs": [],
   "source": [
    "house = {'Locality' : '',\n",
    "         'Type' : '',   # (House/apartment)\n",
    "         'Subtype' : '', # (Bungalow, Chalet, Mansion, ...)\n",
    "         'Price'  : '',\n",
    "         'sale_type' : '',\n",
    "         'bedrooms' : '',\n",
    "         'living_area' : '',\n",
    "         'equip_kit' : '',   # Yes, no\n",
    "         'furnished' : '' , # Yes, no\n",
    "         'open_fire' : '', # Yes, no\n",
    "         'terrace' : '', # Yes, no  # If yes, area: \n",
    "         'garden' : '', # Yes, no  # If yes, area: \n",
    "         'land_surface' : '',\n",
    "         # Surface area of the plot of land (?)\n",
    "         'facades' : '',\n",
    "         'swim_pool' : '',  # Yes, no\n",
    "         'state' : ''     #  (New, to be renovated, ...)\n",
    "          \n",
    "                  }"
   ]
  },
  {
   "cell_type": "code",
   "execution_count": 115,
   "metadata": {},
   "outputs": [],
   "source": [
    "def get_details(link) -> dict:\n",
    "    \"\"\"\n",
    "    Takes a link for a listing and returns its details.\n",
    "\n",
    "    PARAMS:\n",
    "    link - str: the url of the property listing to scrap\n",
    "\n",
    "    RETURNS:\n",
    "    house - dict: label-value pairs of the relevant property details\n",
    "\n",
    "    \"\"\"\n",
    "\n",
    "    # Headers for our req so it does not get blocked\n",
    "    headers = {\n",
    "    \"User-Agent\": \"Mozilla/5.0 (Windows NT 10.0; Win64; x64) AppleWebKit/537.36 (KHTML, like Gecko) Chrome/129.0.0.0 Safari/537.36\",\n",
    "        }\n",
    "\n",
    "    # Making the request and printing status code\n",
    "    req = requests.get(link, headers=headers)\n",
    "\n",
    "    if req.status_code != 200:\n",
    "        print(\"Unable to process\")\n",
    "    else:\n",
    "\n",
    "        # Get content and make soup\n",
    "        content = req.content\n",
    "        soup = BeautifulSoup(content, features='lxml')\n",
    "\n",
    "        # Iniciate an empty dict\n",
    "        house = {}\n",
    "\n",
    "        # Fetch the html tags that will be used to extract the info\n",
    "        price = soup.find('span', attrs={'class': 'sr-only'}).text\n",
    "        #table = soup.find_all('table', class_='classified-table')\n",
    "\n",
    "        # Convert table to lists\n",
    "        labels = [th for th in soup.find_all('th', class_='classified-table__header')]\n",
    "        values = [td for td in soup.find_all('td', class_='classified-table__data')]\n",
    "\n",
    "        # Convert lists to df\n",
    "        # df = pd.DataFrame({\n",
    "        # 'Headers' : labels,\n",
    "        # 'Values' : values\n",
    "        #     })\n",
    "\n",
    "        # Populate house dict with the info\n",
    "        house['id'] = link.split('/')[-1]\n",
    "        house['locality'] = link.split('/')[-3]\n",
    "        house['p_type'] = link.split('/')[-5]\n",
    "        house['price'] = re.sub(r'[\\D]', \"\", price)\n",
    "\n",
    "        return house\n"
   ]
  },
  {
   "cell_type": "code",
   "execution_count": null,
   "metadata": {},
   "outputs": [],
   "source": []
  },
  {
   "cell_type": "code",
   "execution_count": 29,
   "metadata": {},
   "outputs": [],
   "source": [
    "links = ['https://www.immoweb.be/en/classified/apartment/for-sale/antwerpen/2100/20315980', 'https://www.immoweb.be/en/classified/house/for-sale/jette/1090/20231308', 'https://www.immoweb.be/en/classified/country-cottage/for-sale/vaux-sur-sure/6640/20057933']"
   ]
  },
  {
   "cell_type": "code",
   "execution_count": 116,
   "metadata": {},
   "outputs": [],
   "source": [
    "def make_list(file):\n",
    "    \"\"\" \n",
    "    Gets the details of each property and creates a dictionary for it.\n",
    "    \n",
    "    PARAMS:\n",
    "    links_list -list: of the links to extract the info from\n",
    "\n",
    "    RETURN\n",
    "    details -list: of dictionaries\n",
    "    \"\"\"\n",
    "\n",
    "    links = []\n",
    "    links_file = open(file, 'r')\n",
    "    for link in links_file.readlines():\n",
    "        links.append(link)\n",
    "\n",
    "    details = [get_details(link) for link in links]\n",
    "\n",
    "    df = pd.DataFrame(details)\n",
    "    df.to_csv('Test.csv', index=False)\n",
    "\n",
    "    return details"
   ]
  },
  {
   "cell_type": "code",
   "execution_count": 50,
   "metadata": {},
   "outputs": [],
   "source": [
    "def convert(details):\n",
    "    \"\"\"\n",
    "    Converts the list of dictionaries to\n",
    "    a dataframe and saves it as csv file.\n",
    "\n",
    "    PARAMS:\n",
    "    details -list: of dictionaries\n",
    "\n",
    "    RETURN:\n",
    "    df: dataFrame saved in as csv file\n",
    "    \"\"\"\n",
    "\n",
    "    df = pd.DataFrame(details)\n",
    "    df.to_csv('Test.csv', index=False)\n",
    "    return df"
   ]
  },
  {
   "cell_type": "code",
   "execution_count": 131,
   "metadata": {},
   "outputs": [
    {
     "data": {
      "text/plain": [
       "[{'id': '20311767\\n',\n",
       "  'locality': 'seraing',\n",
       "  'p_type': 'mixed-use-building',\n",
       "  'price': '169900'},\n",
       " {'id': '20307293\\n',\n",
       "  'locality': 'nieuwerkerken',\n",
       "  'p_type': 'house',\n",
       "  'price': '299000'},\n",
       " {'id': '20311659\\n',\n",
       "  'locality': 'ninove',\n",
       "  'p_type': 'house',\n",
       "  'price': '315000'},\n",
       " {'id': '20311730\\n',\n",
       "  'locality': 'houthalen-helchteren',\n",
       "  'p_type': 'house',\n",
       "  'price': '299500'},\n",
       " {'id': '20311729\\n',\n",
       "  'locality': 'gent',\n",
       "  'p_type': 'house',\n",
       "  'price': '595000'},\n",
       " {'id': '20311728\\n',\n",
       "  'locality': 'blankenberge',\n",
       "  'p_type': 'manor-house',\n",
       "  'price': '610000'},\n",
       " {'id': '20311727\\n',\n",
       "  'locality': 'blankenberge',\n",
       "  'p_type': 'duplex',\n",
       "  'price': '275000'},\n",
       " {'id': '20311726\\n',\n",
       "  'locality': 'merchtem',\n",
       "  'p_type': 'house',\n",
       "  'price': '429000'},\n",
       " {'id': '20311725\\n',\n",
       "  'locality': 'hoboken%20%28antwerpen%29',\n",
       "  'p_type': 'apartment',\n",
       "  'price': '219000'},\n",
       " {'id': '20311723\\n',\n",
       "  'locality': 'braine-l%27alleud',\n",
       "  'p_type': 'house',\n",
       "  'price': '250000'},\n",
       " {'id': '20311722\\n',\n",
       "  'locality': 'uccle',\n",
       "  'p_type': 'apartment',\n",
       "  'price': '485000'},\n",
       " {'id': '20311718\\n',\n",
       "  'locality': 'dour',\n",
       "  'p_type': 'house',\n",
       "  'price': '295000'},\n",
       " {'id': '20311717\\n',\n",
       "  'locality': 'haaltert',\n",
       "  'p_type': 'apartment',\n",
       "  'price': '225000'},\n",
       " {'id': '20311716\\n',\n",
       "  'locality': 'haaltert',\n",
       "  'p_type': 'house',\n",
       "  'price': '225000'},\n",
       " {'id': '20311714\\n',\n",
       "  'locality': 'ixelles',\n",
       "  'p_type': 'apartment',\n",
       "  'price': '545000'},\n",
       " {'id': '20311709\\n',\n",
       "  'locality': 'chastre',\n",
       "  'p_type': 'town-house',\n",
       "  'price': '385000'},\n",
       " {'id': '20311707\\n',\n",
       "  'locality': 'oostende',\n",
       "  'p_type': 'house',\n",
       "  'price': '220000'},\n",
       " {'id': '20311705\\n',\n",
       "  'locality': 'wilrijk',\n",
       "  'p_type': 'apartment',\n",
       "  'price': '325000'},\n",
       " {'id': '20132249\\n',\n",
       "  'locality': 'thuin',\n",
       "  'p_type': 'castle',\n",
       "  'price': '995000'},\n",
       " {'id': '20311700\\n',\n",
       "  'locality': 'heist-op-den-berg',\n",
       "  'p_type': 'house',\n",
       "  'price': '599000'},\n",
       " {'id': '20311698\\n',\n",
       "  'locality': 'herenthout',\n",
       "  'p_type': 'apartment',\n",
       "  'price': '389000'},\n",
       " {'id': '20311697\\n',\n",
       "  'locality': 'opwijk',\n",
       "  'p_type': 'villa',\n",
       "  'price': '495000'},\n",
       " {'id': '20311695\\n',\n",
       "  'locality': 'anderlecht',\n",
       "  'p_type': 'apartment',\n",
       "  'price': '165000'},\n",
       " {'id': '11318605\\n',\n",
       "  'locality': 'li%C3%A8ge',\n",
       "  'p_type': 'penthouse',\n",
       "  'price': '625000'},\n",
       " {'id': '20311687\\n',\n",
       "  'locality': 'jemeppe-sur-sambre',\n",
       "  'p_type': 'house',\n",
       "  'price': '99000'},\n",
       " {'id': '20311685\\n',\n",
       "  'locality': 'champion',\n",
       "  'p_type': 'ground-floor',\n",
       "  'price': '270000'},\n",
       " {'id': '20311683\\n',\n",
       "  'locality': 'roeselare',\n",
       "  'p_type': 'house',\n",
       "  'price': '324000'},\n",
       " {'id': '20311682\\n',\n",
       "  'locality': 'braine-le-comte',\n",
       "  'p_type': 'penthouse',\n",
       "  'price': '340000'},\n",
       " {'id': '20311680\\n',\n",
       "  'locality': 'antwerpen%20wilrijk',\n",
       "  'p_type': 'loft',\n",
       "  'price': '399000'},\n",
       " {'id': '20311677\\n',\n",
       "  'locality': 'orp-jauche',\n",
       "  'p_type': 'house',\n",
       "  'price': '245000'},\n",
       " {'id': '20006244',\n",
       "  'locality': 'ambl%C3%A8ve',\n",
       "  'p_type': 'apartment-block',\n",
       "  'price': '498000'}]"
      ]
     },
     "execution_count": 131,
     "metadata": {},
     "output_type": "execute_result"
    }
   ],
   "source": [
    "make_list('immo_links.txt')"
   ]
  }
 ],
 "metadata": {
  "kernelspec": {
   "display_name": "env1",
   "language": "python",
   "name": "python3"
  },
  "language_info": {
   "codemirror_mode": {
    "name": "ipython",
    "version": 3
   },
   "file_extension": ".py",
   "mimetype": "text/x-python",
   "name": "python",
   "nbconvert_exporter": "python",
   "pygments_lexer": "ipython3",
   "version": "3.13.0"
  }
 },
 "nbformat": 4,
 "nbformat_minor": 2
}
