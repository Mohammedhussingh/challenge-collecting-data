{
 "cells": [
  {
   "cell_type": "code",
   "metadata": {
    "ExecuteTime": {
     "end_time": "2024-11-14T14:03:38.482422Z",
     "start_time": "2024-11-14T14:03:38.479511Z"
    }
   },
   "source": [
    "# Importing the necessary libraries\n",
    "import requests\n",
    "from bs4 import BeautifulSoup\n",
    "import re\n",
    "import pandas as pd"
   ],
   "outputs": [],
   "execution_count": 18
  },
  {
   "cell_type": "code",
   "metadata": {
    "ExecuteTime": {
     "end_time": "2024-11-14T14:03:38.492928Z",
     "start_time": "2024-11-14T14:03:38.490007Z"
    }
   },
   "source": [
    "link = 'https://www.immoweb.be/en/classified/villa/for-sale/seraing/4100/20315332'\n",
    "\n",
    "headers = {\n",
    "    \"User-Agent\": \"Mozilla/5.0 (Windows NT 10.0; Win64; x64) AppleWebKit/537.36 (KHTML, like Gecko) Chrome/129.0.0.0 Safari/537.36\",\n",
    "}"
   ],
   "outputs": [],
   "execution_count": 19
  },
  {
   "cell_type": "code",
   "metadata": {
    "ExecuteTime": {
     "end_time": "2024-11-14T14:03:38.883941Z",
     "start_time": "2024-11-14T14:03:38.511436Z"
    }
   },
   "source": [
    "# Get the website's content and making soup\n",
    "\n",
    "req = requests.get(link, headers=headers)\n",
    "print(req.status_code)\n",
    "\n",
    "content = req.content\n",
    "soup = BeautifulSoup(content, 'html')\n"
   ],
   "outputs": [
    {
     "name": "stdout",
     "output_type": "stream",
     "text": [
      "200\n"
     ]
    }
   ],
   "execution_count": 20
  },
  {
   "cell_type": "code",
   "metadata": {
    "ExecuteTime": {
     "end_time": "2024-11-14T14:03:38.903030Z",
     "start_time": "2024-11-14T14:03:38.900152Z"
    }
   },
   "source": [
    "# City / Locality \n",
    "locality = link.split('/')[-3]\n",
    "locality"
   ],
   "outputs": [
    {
     "data": {
      "text/plain": [
       "'seraing'"
      ]
     },
     "execution_count": 21,
     "metadata": {},
     "output_type": "execute_result"
    }
   ],
   "execution_count": 21
  },
  {
   "cell_type": "code",
   "metadata": {
    "ExecuteTime": {
     "end_time": "2024-11-14T14:03:38.927478Z",
     "start_time": "2024-11-14T14:03:38.924597Z"
    }
   },
   "source": [
    "# Property Type\n",
    "\n",
    "houses = ('house', 'villa', 'mansion', 'town-house', 'mixed-use-building', 'exceptional-property')\n",
    "appartments = ('appartment', 'ground-floor', 'penthouse', 'flat-studio','appartment-block', 'duplex')\n",
    "\n",
    "sub_type = link.split('/')[-5]\n",
    "sub_type"
   ],
   "outputs": [
    {
     "data": {
      "text/plain": [
       "'villa'"
      ]
     },
     "execution_count": 22,
     "metadata": {},
     "output_type": "execute_result"
    }
   ],
   "execution_count": 22
  },
  {
   "cell_type": "code",
   "metadata": {
    "ExecuteTime": {
     "end_time": "2024-11-14T14:03:38.968198Z",
     "start_time": "2024-11-14T14:03:38.964592Z"
    }
   },
   "source": [
    "if sub_type in houses:\n",
    "    p_type = 'house'\n",
    "elif sub_type in appartments:\n",
    "    p_type = 'appartment'\n",
    "else:\n",
    "    p_type = 'other'\n",
    "\n",
    "\n",
    "p_type\n"
   ],
   "outputs": [
    {
     "data": {
      "text/plain": [
       "'house'"
      ]
     },
     "execution_count": 23,
     "metadata": {},
     "output_type": "execute_result"
    }
   ],
   "execution_count": 23
  },
  {
   "cell_type": "code",
   "metadata": {
    "ExecuteTime": {
     "end_time": "2024-11-14T14:03:38.988698Z",
     "start_time": "2024-11-14T14:03:38.984427Z"
    }
   },
   "source": [
    "# Price\n",
    "price = soup.find('span', attrs={'class': 'sr-only'})\n",
    "price = re.sub(r'[\\D]', \"\", price.text)\n",
    "price"
   ],
   "outputs": [
    {
     "data": {
      "text/plain": [
       "'369000'"
      ]
     },
     "execution_count": 24,
     "metadata": {},
     "output_type": "execute_result"
    }
   ],
   "execution_count": 24
  },
  {
   "cell_type": "code",
   "metadata": {
    "ExecuteTime": {
     "end_time": "2024-11-14T14:03:39.012032Z",
     "start_time": "2024-11-14T14:03:39.008591Z"
    }
   },
   "source": [
    "###################\n",
    "# Sale Type TO BE DONE\n",
    "\n",
    "sale_type = soup.find('span', attrs={'class': 'flag-list__text'})\n",
    "\n",
    "sale_type\n",
    "\n"
   ],
   "outputs": [],
   "execution_count": 25
  },
  {
   "cell_type": "code",
   "metadata": {
    "ExecuteTime": {
     "end_time": "2024-11-14T14:03:39.034306Z",
     "start_time": "2024-11-14T14:03:39.030721Z"
    }
   },
   "source": [
    "# Get table with all other property details\n",
    "table = soup.find_all('table', class_='classified-table')"
   ],
   "outputs": [],
   "execution_count": 26
  },
  {
   "cell_type": "code",
   "metadata": {
    "ExecuteTime": {
     "end_time": "2024-11-14T14:03:39.062008Z",
     "start_time": "2024-11-14T14:03:39.054774Z"
    }
   },
   "source": [
    "# Create list of raw data from the table\n",
    "labels = [str(th) for th in soup.find_all('th', class_='classified-table__header')]\n",
    "values = [str(td) for td in soup.find_all('td', class_='classified-table__data')]\n",
    "\n",
    "# Get content of the extracted tags as labels to become keys\n",
    "new_labels = [re.search(r'<th.*?>(.*?)</th>', label, flags=re.DOTALL) for label in labels]\n",
    "clean_labels = [new_label.group(1).strip() if new_label else 'NA' for new_label in new_labels]\n",
    "\n",
    "# Get content of the extracted tags as values to become values\n",
    "new_values = [re.search(r'<td[^>]*>(.*?)<', value, flags=re.DOTALL) for value in values]\n",
    "clean_values = [new_value.group(1).strip() if new_value else 'Not found' for new_value in new_values]\n",
    "\n",
    "\n",
    "# print(clean_labels)\n",
    "# print(clean_values)\n",
    "\n",
    "\n",
    "# Convert to dict:\n",
    "details_dict = {label: value for label, value in zip(clean_labels, clean_values)}\n",
    "\n",
    "details_dict\n"
   ],
   "outputs": [
    {
     "data": {
      "text/plain": [
       "{'Available as of': 'After signing the deed',\n",
       " 'Construction year': '1979',\n",
       " 'Building condition': 'To be done up',\n",
       " 'Street frontage width': '11 m',\n",
       " 'Number of frontages': '4',\n",
       " 'Covered parking spaces': '2',\n",
       " 'Outdoor parking spaces': '2',\n",
       " 'Asbestos certificate is available': 'No',\n",
       " 'Living area': '242',\n",
       " 'Living room surface': '60',\n",
       " 'How many fireplaces?': '1',\n",
       " 'Kitchen type': 'Semi equipped',\n",
       " 'Bedrooms': '4',\n",
       " 'Bathrooms': '1',\n",
       " 'Toilets': '2',\n",
       " 'Basement': 'Yes',\n",
       " 'Attic': 'Yes',\n",
       " 'Surface of the plot': '712',\n",
       " 'Width of the lot on the street': '',\n",
       " 'Connection to sewer network': 'Connected',\n",
       " 'Gas, water &amp; electricity': 'Yes',\n",
       " 'Garden surface': '400',\n",
       " 'Garden orientation': 'South West',\n",
       " 'Terrace surface': '50',\n",
       " 'TV cable': 'Yes',\n",
       " 'Primary energy consumption': '339',\n",
       " 'Energy class': 'D',\n",
       " 'Reference number of the EPC report': '20240412024792',\n",
       " 'CO₂ emission': '62 kg CO₂/m²',\n",
       " 'Yearly theoretical total energy consumption': '81974 kWh/year',\n",
       " 'Conformity certification for fuel tanks': 'Not specified',\n",
       " 'Heating type': 'Gas',\n",
       " 'Double glazing': 'Yes',\n",
       " 'Price': '',\n",
       " 'Cadastral income': '',\n",
       " 'Tenement building': 'No',\n",
       " 'Address': 'Route du Condroz 151',\n",
       " 'Website': '',\n",
       " 'External reference': '5429 - 3114'}"
      ]
     },
     "execution_count": 27,
     "metadata": {},
     "output_type": "execute_result"
    }
   ],
   "execution_count": 27
  },
  {
   "cell_type": "code",
   "metadata": {
    "ExecuteTime": {
     "end_time": "2024-11-14T14:03:39.086328Z",
     "start_time": "2024-11-14T14:03:39.079936Z"
    }
   },
   "source": [
    "# Searching for all details needed in details_dict and\n",
    "# Assign \"NA\" if not found\n",
    "\n",
    "new_house = {}\n",
    "\n",
    "# Bedrooms and living area\n",
    "new_house['bedrooms'] = details_dict.get('Bedrooms')\n",
    "new_house['living_area'] = details_dict.get('Living area')\n",
    "\n",
    "# Kitchen\n",
    "equiped = ('Hyper equipped', 'Installed', 'Semi equipped')\n",
    "if details_dict.get('Kitchen type') in equiped:\n",
    "    new_house['equip_kitchen'] = 1\n",
    "else:\n",
    "    new_house['equip_kitchen'] = 0\n",
    "\n",
    "# Furnished\n",
    "if details_dict.get('Furnished') == 'Yes':\n",
    "    new_house['furnished'] = 1\n",
    "else:\n",
    "    new_house['furnished'] = 0\n",
    "\n",
    "\n",
    "# open fire:\n",
    "if details_dict.get('How many fireplaces?') == None:\n",
    "    new_house['open_fire'] = 0\n",
    "else:\n",
    "    new_house['open_fire'] = 1\n",
    "\n",
    "# Terrace\n",
    "if details_dict.get('Terrace') != None \\\n",
    "    or details_dict.get('Terrace surface') != None:\n",
    "    new_house['terrace'] = 1\n",
    "else:\n",
    "    new_house['terrace'] = 0\n",
    "\n",
    "# Terrace surface\n",
    "new_house['terrace_surface'] = details_dict.get('Terrace surface')\n",
    "\n",
    "# Garden\n",
    "if details_dict.get('Garden') != None \\\n",
    "    or details_dict.get('Garden surface') != None:\n",
    "    new_house['garden'] = 1\n",
    "else:\n",
    "    new_house['garden'] = 0\n",
    "\n",
    "# Land surface\n",
    "if details_dict.get('Surface of the plot') != None:\n",
    "    new_house['surface of the plot'] = details_dict.get('Surface of the plot')\n",
    "else:\n",
    "    new_house['surface of the plot'] = 0\n",
    "\n",
    "# Facades\n",
    "if details_dict.get('Number of frontages') != None:\n",
    "    new_house['facades'] = details_dict.get('Number of frontages')\n",
    "else:\n",
    "    new_house['facades'] = 0\n",
    "    \n",
    "# Swim pool\n",
    "if details_dict.get('Swimming pool') != None:\n",
    "    new_house['swim_pool'] = \"yes\"\n",
    "else:\n",
    "    new_house['swim_pool'] = \"no\"\n",
    "    \n",
    "# State\n",
    "if details_dict.get('Building condition') != None:\n",
    "    new_house['state'] = details_dict.get('Building condition')\n",
    "else:\n",
    "    new_house['state'] = 0\n",
    "\n",
    "new_house\n",
    "\n",
    "# 'bedrooms' : '',\n",
    "# 'living_area' : '',\n",
    "# 'equip_kit' : '',   # Yes, no\n",
    "# 'furnished' : '' , # Yes, no\n",
    "# 'open_fire' : '', # Yes, no\n",
    "# 'terrace' : '', # Yes, no  # If yes, area:"
   ],
   "outputs": [
    {
     "data": {
      "text/plain": [
       "{'bedrooms': '4',\n",
       " 'living_area': '242',\n",
       " 'equip_kitchen': 1,\n",
       " 'furnished': 0,\n",
       " 'open_fire': 1,\n",
       " 'terrace': 1,\n",
       " 'terrace_surface': '50',\n",
       " 'garden': 1,\n",
       " 'surface of the plot': '712',\n",
       " 'facades': '4',\n",
       " 'swim_pool': 'no',\n",
       " 'state': 'To be done up'}"
      ]
     },
     "execution_count": 28,
     "metadata": {},
     "output_type": "execute_result"
    }
   ],
   "execution_count": 28
  },
  {
   "cell_type": "code",
   "metadata": {
    "ExecuteTime": {
     "end_time": "2024-11-14T14:03:39.187176Z",
     "start_time": "2024-11-14T14:03:39.184267Z"
    }
   },
   "source": [
    "house = {'Locality' : '',\n",
    "         'Type' : '',   # (House/apartment)\n",
    "         'Subtype' : '', # (Bungalow, Chalet, Mansion, ...)\n",
    "         'Price'  : '',\n",
    "         'sale_type' : '',\n",
    "         'bedrooms' : '',\n",
    "         'living_area' : '',\n",
    "         'equip_kit' : '',   # Yes, no\n",
    "         'furnished' : '' , # Yes, no\n",
    "         'open_fire' : '', # Yes, no\n",
    "         'terrace' : '', # Yes, no  # If yes, area: \n",
    "         'garden' : '', # Yes, no  # If yes, area: \n",
    "         'land_surface' : '',\n",
    "         # Surface area of the plot of land (?)\n",
    "         'facades' : '',\n",
    "         'swim_pool' : '',  # Yes, no\n",
    "         'state' : ''     #  (New, to be renovated, ...)\n",
    "          \n",
    "                  }"
   ],
   "outputs": [],
   "execution_count": 29
  },
  {
   "cell_type": "code",
   "metadata": {
    "ExecuteTime": {
     "end_time": "2024-11-14T14:03:39.207277Z",
     "start_time": "2024-11-14T14:03:39.202863Z"
    }
   },
   "source": [
    "def get_details(link) -> dict:\n",
    "    \"\"\"\n",
    "    Takes a link for a listing and returns its details.\n",
    "\n",
    "    PARAMS:\n",
    "    link - str: the url of the property listing to scrap\n",
    "\n",
    "    RETURNS:\n",
    "    house - dict: label-value pairs of the relevant property details\n",
    "\n",
    "    \"\"\"\n",
    "\n",
    "    # Headers for our req so it does not get blocked\n",
    "    headers = {\n",
    "    \"User-Agent\": \"Mozilla/5.0 (Windows NT 10.0; Win64; x64) AppleWebKit/537.36 (KHTML, like Gecko) Chrome/129.0.0.0 Safari/537.36\",\n",
    "        }\n",
    "\n",
    "    # Making the request and printing status code\n",
    "    req = requests.get(link, headers=headers)\n",
    "\n",
    "    if req.status_code != 200:\n",
    "        print(\"Unable to process\")\n",
    "    else:\n",
    "\n",
    "        # Get content and make soup\n",
    "        content = req.content\n",
    "        soup = BeautifulSoup(content, features='lxml')\n",
    "\n",
    "        # Iniciate an empty dict\n",
    "        house = {}\n",
    "\n",
    "        # Fetch the html tags that will be used to extract the info\n",
    "        price = soup.find('span', attrs={'class': 'sr-only'}).text\n",
    "        #table = soup.find_all('table', class_='classified-table')\n",
    "\n",
    "        # Convert table to lists\n",
    "        labels = [th for th in soup.find_all('th', class_='classified-table__header')]\n",
    "        values = [td for td in soup.find_all('td', class_='classified-table__data')]\n",
    "\n",
    "        # Convert lists to df\n",
    "        # df = pd.DataFrame({\n",
    "        # 'Headers' : labels,\n",
    "        # 'Values' : values\n",
    "        #     })\n",
    "\n",
    "        # Populate house dict with the info\n",
    "        house['id'] = link.split('/')[-1]\n",
    "        house['locality'] = link.split('/')[-3]\n",
    "        house['p_type'] = link.split('/')[-5]\n",
    "        house['price'] = re.sub(r'[\\D]', \"\", price)\n",
    "\n",
    "        return house\n"
   ],
   "outputs": [],
   "execution_count": 30
  },
  {
   "cell_type": "code",
   "metadata": {
    "ExecuteTime": {
     "end_time": "2024-11-14T14:03:39.224832Z",
     "start_time": "2024-11-14T14:03:39.223425Z"
    }
   },
   "source": [],
   "outputs": [],
   "execution_count": null
  },
  {
   "cell_type": "code",
   "metadata": {
    "ExecuteTime": {
     "end_time": "2024-11-14T14:03:39.242589Z",
     "start_time": "2024-11-14T14:03:39.240307Z"
    }
   },
   "source": [
    "links = ['https://www.immoweb.be/en/classified/apartment/for-sale/antwerpen/2100/20315980', 'https://www.immoweb.be/en/classified/house/for-sale/jette/1090/20231308', 'https://www.immoweb.be/en/classified/country-cottage/for-sale/vaux-sur-sure/6640/20057933']"
   ],
   "outputs": [],
   "execution_count": 31
  },
  {
   "cell_type": "code",
   "metadata": {
    "ExecuteTime": {
     "end_time": "2024-11-14T14:03:39.262579Z",
     "start_time": "2024-11-14T14:03:39.259753Z"
    }
   },
   "source": [
    "def make_list(file):\n",
    "    \"\"\" \n",
    "    Gets the details of each property and creates a dictionary for it.\n",
    "    \n",
    "    PARAMS:\n",
    "    links_list -list: of the links to extract the info from\n",
    "\n",
    "    RETURN\n",
    "    details -list: of dictionaries\n",
    "    \"\"\"\n",
    "\n",
    "    links = []\n",
    "    links_file = open(file, 'r')\n",
    "    for link in links_file.readlines():\n",
    "        links.append(link)\n",
    "\n",
    "    details = [get_details(link) for link in links]\n",
    "\n",
    "    df = pd.DataFrame(details)\n",
    "    df.to_csv('Test.csv', index=False)\n",
    "\n",
    "    return details"
   ],
   "outputs": [],
   "execution_count": 32
  },
  {
   "cell_type": "code",
   "metadata": {
    "ExecuteTime": {
     "end_time": "2024-11-14T14:03:39.280893Z",
     "start_time": "2024-11-14T14:03:39.278767Z"
    }
   },
   "source": [
    "def convert(details):\n",
    "    \"\"\"\n",
    "    Converts the list of dictionaries to\n",
    "    a dataframe and saves it as csv file.\n",
    "\n",
    "    PARAMS:\n",
    "    details -list: of dictionaries\n",
    "\n",
    "    RETURN:\n",
    "    df: dataFrame saved in as csv file\n",
    "    \"\"\"\n",
    "\n",
    "    df = pd.DataFrame(details)\n",
    "    df.to_csv('Test.csv', index=False)\n",
    "    return df"
   ],
   "outputs": [],
   "execution_count": 33
  },
  {
   "cell_type": "code",
   "metadata": {
    "ExecuteTime": {
     "end_time": "2024-11-14T14:03:39.319787Z",
     "start_time": "2024-11-14T14:03:39.303570Z"
    }
   },
   "source": [
    "make_list('immo_links.txt')"
   ],
   "outputs": [
    {
     "ename": "FileNotFoundError",
     "evalue": "[Errno 2] No such file or directory: 'immo_links.txt'",
     "output_type": "error",
     "traceback": [
      "\u001B[1;31m---------------------------------------------------------------------------\u001B[0m",
      "\u001B[1;31mFileNotFoundError\u001B[0m                         Traceback (most recent call last)",
      "Cell \u001B[1;32mIn[34], line 1\u001B[0m\n\u001B[1;32m----> 1\u001B[0m \u001B[43mmake_list\u001B[49m\u001B[43m(\u001B[49m\u001B[38;5;124;43m'\u001B[39;49m\u001B[38;5;124;43mimmo_links.txt\u001B[39;49m\u001B[38;5;124;43m'\u001B[39;49m\u001B[43m)\u001B[49m\n",
      "Cell \u001B[1;32mIn[32], line 13\u001B[0m, in \u001B[0;36mmake_list\u001B[1;34m(file)\u001B[0m\n\u001B[0;32m      2\u001B[0m \u001B[38;5;250m\u001B[39m\u001B[38;5;124;03m\"\"\" \u001B[39;00m\n\u001B[0;32m      3\u001B[0m \u001B[38;5;124;03mGets the details of each property and creates a dictionary for it.\u001B[39;00m\n\u001B[0;32m      4\u001B[0m \u001B[38;5;124;03m\u001B[39;00m\n\u001B[1;32m   (...)\u001B[0m\n\u001B[0;32m      9\u001B[0m \u001B[38;5;124;03mdetails -list: of dictionaries\u001B[39;00m\n\u001B[0;32m     10\u001B[0m \u001B[38;5;124;03m\"\"\"\u001B[39;00m\n\u001B[0;32m     12\u001B[0m links \u001B[38;5;241m=\u001B[39m []\n\u001B[1;32m---> 13\u001B[0m links_file \u001B[38;5;241m=\u001B[39m \u001B[38;5;28;43mopen\u001B[39;49m\u001B[43m(\u001B[49m\u001B[43mfile\u001B[49m\u001B[43m,\u001B[49m\u001B[43m \u001B[49m\u001B[38;5;124;43m'\u001B[39;49m\u001B[38;5;124;43mr\u001B[39;49m\u001B[38;5;124;43m'\u001B[39;49m\u001B[43m)\u001B[49m\n\u001B[0;32m     14\u001B[0m \u001B[38;5;28;01mfor\u001B[39;00m link \u001B[38;5;129;01min\u001B[39;00m links_file\u001B[38;5;241m.\u001B[39mreadlines():\n\u001B[0;32m     15\u001B[0m     links\u001B[38;5;241m.\u001B[39mappend(link)\n",
      "File \u001B[1;32m~\\PycharmProjects\\pythonProject\\immo-eliza-venv\\Lib\\site-packages\\IPython\\core\\interactiveshell.py:324\u001B[0m, in \u001B[0;36m_modified_open\u001B[1;34m(file, *args, **kwargs)\u001B[0m\n\u001B[0;32m    317\u001B[0m \u001B[38;5;28;01mif\u001B[39;00m file \u001B[38;5;129;01min\u001B[39;00m {\u001B[38;5;241m0\u001B[39m, \u001B[38;5;241m1\u001B[39m, \u001B[38;5;241m2\u001B[39m}:\n\u001B[0;32m    318\u001B[0m     \u001B[38;5;28;01mraise\u001B[39;00m \u001B[38;5;167;01mValueError\u001B[39;00m(\n\u001B[0;32m    319\u001B[0m         \u001B[38;5;124mf\u001B[39m\u001B[38;5;124m\"\u001B[39m\u001B[38;5;124mIPython won\u001B[39m\u001B[38;5;124m'\u001B[39m\u001B[38;5;124mt let you open fd=\u001B[39m\u001B[38;5;132;01m{\u001B[39;00mfile\u001B[38;5;132;01m}\u001B[39;00m\u001B[38;5;124m by default \u001B[39m\u001B[38;5;124m\"\u001B[39m\n\u001B[0;32m    320\u001B[0m         \u001B[38;5;124m\"\u001B[39m\u001B[38;5;124mas it is likely to crash IPython. If you know what you are doing, \u001B[39m\u001B[38;5;124m\"\u001B[39m\n\u001B[0;32m    321\u001B[0m         \u001B[38;5;124m\"\u001B[39m\u001B[38;5;124myou can use builtins\u001B[39m\u001B[38;5;124m'\u001B[39m\u001B[38;5;124m open.\u001B[39m\u001B[38;5;124m\"\u001B[39m\n\u001B[0;32m    322\u001B[0m     )\n\u001B[1;32m--> 324\u001B[0m \u001B[38;5;28;01mreturn\u001B[39;00m \u001B[43mio_open\u001B[49m\u001B[43m(\u001B[49m\u001B[43mfile\u001B[49m\u001B[43m,\u001B[49m\u001B[43m \u001B[49m\u001B[38;5;241;43m*\u001B[39;49m\u001B[43margs\u001B[49m\u001B[43m,\u001B[49m\u001B[43m \u001B[49m\u001B[38;5;241;43m*\u001B[39;49m\u001B[38;5;241;43m*\u001B[39;49m\u001B[43mkwargs\u001B[49m\u001B[43m)\u001B[49m\n",
      "\u001B[1;31mFileNotFoundError\u001B[0m: [Errno 2] No such file or directory: 'immo_links.txt'"
     ]
    }
   ],
   "execution_count": 34
  }
 ],
 "metadata": {
  "kernelspec": {
   "display_name": "env1",
   "language": "python",
   "name": "python3"
  },
  "language_info": {
   "codemirror_mode": {
    "name": "ipython",
    "version": 3
   },
   "file_extension": ".py",
   "mimetype": "text/x-python",
   "name": "python",
   "nbconvert_exporter": "python",
   "pygments_lexer": "ipython3",
   "version": "3.13.0"
  }
 },
 "nbformat": 4,
 "nbformat_minor": 2
}
